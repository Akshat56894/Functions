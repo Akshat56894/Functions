{
  "cells": [
    {
      "cell_type": "markdown",
      "source": [
        "# Functions"
      ],
      "metadata": {
        "id": "9imsXmuB-l7S"
      },
      "id": "9imsXmuB-l7S"
    },
    {
      "cell_type": "markdown",
      "source": [
        "1.What is the difference between a function and a method in Python?\n",
        "- A function is a block of code that performs a specific task and is\n",
        " defined using the def keyword. A method is a function that is associated with an object and is called on that object.\n",
        "\n",
        "2.Explain the concept of function arguments and parameters in Python.\n",
        "- Parameters are variables listed in a function's definition. Arguments\n",
        "  are the values passed to the function when it is called.\n",
        "\n",
        "3.What are the different ways to define and call a function in Python?\n",
        "- Functions are defined using the def keyword or with a lambda\n",
        "  expression. They are called using parentheses ().\n",
        "\n",
        "4.What is the purpose of the return statement in a Python function?\n",
        "- The return statement is used to exit a function and send back a\n",
        "  result to the caller.    \n",
        "\n",
        "5.What are iterators in Python and how do they differ from iterables?\n",
        "- An iterable is an object that can return an iterator (like list,\n",
        "  tuple, etc.). An iterator is an object with a next() method that returns elements one at a time.\n",
        "\n",
        "6.Explain the concept of generators in Python and how they are defined.\n",
        "- Generators are functions that yield values one at a time using the\n",
        "  yield keyword. They are used to produce a sequence of results lazily.  \n",
        "\n",
        "7.What are the advantages of using generators over regular functions?\n",
        "- They save memory by yielding items one at a time.\n",
        "\n",
        "- They are more efficient for large data streams.\n",
        "\n",
        "- They maintain state between calls.\n",
        "\n",
        "8.What is a lambda function in Python and when is it typically used?\n",
        "- A lambda function is an anonymous, one-line function defined using\n",
        "  the lambda keyword. It is used when a small function is needed temporarily.\n",
        "\n",
        "9.Explain the purpose and usage of the map() function in Python.\n",
        "- The map() function in Python applies a given function to each item of\n",
        "  an iterable (like a list or tuple) and returns an iterator of the results.\n",
        "\n",
        "  Purpose: To efficiently apply a transformation to every element in a sequence without using explicit loops.\n",
        "\n",
        "  Usage: map(function, iterable)\n",
        "\n",
        "10.What is the difference between map(), reduce(), and filter() functions in Python?\n",
        "- map() applies a function to each item.\n",
        "\n",
        "  filter() selects items where the function returns True.\n",
        "\n",
        "  reduce() applies a rolling computation (from functools).\n",
        "\n",
        "11.write the internal mechanism of the reduce() sum operation using pen & paper for the list [47, 11, 42, 13].\n",
        "- Pen & Paper - Reduce Sum Mechanism\n",
        "  We use reduce(lambda x, y: x + y, [47, 11, 42, 13]).\n",
        "  Step 1: Start with the first two elements:\n",
        "        47 + 11 = 58\n",
        "  Step 2: Take the result and add the next element:\n",
        "        58 + 42 = 100\n",
        "  Step 3: Take the result and add the next element:\n",
        "        100 + 13 = 113\n",
        "  Final Result: 113\n",
        "  Structure (how reduce works):\n",
        "  reduce(lambda x, y: x + y, [47, 11, 42, 13])\n",
        "  = (((47 + 11) + 42) + 13)\n",
        "  = ((58 + 42) + 13)\n",
        "  = (100 + 13)\n",
        "  = 113   \n"
      ],
      "metadata": {
        "id": "hBSRMY0C-rYG"
      },
      "id": "hBSRMY0C-rYG"
    },
    {
      "cell_type": "code",
      "source": [
        "# 1. Write a Python function that takes a list of numbers as input and returns the sum of all even numbers in the list.\n",
        "def sum_even_numbers(lst):\n",
        "    return sum(num for num in lst if num % 2 == 0)\n",
        "\n",
        "# Example usage:\n",
        "print(sum_even_numbers([1, 2, 3, 4, 5, 6]))"
      ],
      "metadata": {
        "id": "V4KeS1zoGiUy",
        "outputId": "53c819b5-14cf-422f-d8e6-0827b3df1698",
        "colab": {
          "base_uri": "https://localhost:8080/"
        }
      },
      "id": "V4KeS1zoGiUy",
      "execution_count": 1,
      "outputs": [
        {
          "output_type": "stream",
          "name": "stdout",
          "text": [
            "12\n"
          ]
        }
      ]
    },
    {
      "cell_type": "code",
      "source": [
        "# 2. Create a Python function that accepts a string and returns the reverse of that string.\n",
        "def reverse_string(s):\n",
        "    return s[::-1]\n",
        "\n",
        "# Example usage:\n",
        "print(reverse_string(\"Python\"))"
      ],
      "metadata": {
        "id": "RS8uQWOeGr4v",
        "outputId": "165dcfde-719a-48f9-b261-f8eb3e6b6bd2",
        "colab": {
          "base_uri": "https://localhost:8080/"
        }
      },
      "id": "RS8uQWOeGr4v",
      "execution_count": 2,
      "outputs": [
        {
          "output_type": "stream",
          "name": "stdout",
          "text": [
            "nohtyP\n"
          ]
        }
      ]
    },
    {
      "cell_type": "code",
      "source": [
        "# 3. Implement a Python function that takes a list of integers and returns a new list containing the squares of each number.\n",
        "def square_list(lst):\n",
        "    return [x**2 for x in lst]\n",
        "\n",
        "# Example usage:\n",
        "print(square_list([1, 2, 3, 4]))"
      ],
      "metadata": {
        "id": "7-HBmSVsGxjA",
        "outputId": "fb05d8fa-94be-44f8-dda6-e333b56b1806",
        "colab": {
          "base_uri": "https://localhost:8080/"
        }
      },
      "id": "7-HBmSVsGxjA",
      "execution_count": 3,
      "outputs": [
        {
          "output_type": "stream",
          "name": "stdout",
          "text": [
            "[1, 4, 9, 16]\n"
          ]
        }
      ]
    },
    {
      "cell_type": "code",
      "source": [
        "# 4. Write a Python function that checks if a given number is prime or not from 1 to 200.\n",
        "def is_prime(n):\n",
        "    if n < 2:\n",
        "        return False\n",
        "    for i in range(2, int(n**0.5)+1):\n",
        "        if n % i == 0:\n",
        "            return False\n",
        "    return True\n",
        "\n",
        "    # Example usage:\n",
        "primes = [n for n in range(1, 201) if is_prime(n)]\n",
        "print(primes)"
      ],
      "metadata": {
        "id": "yNEFEmOBG5em",
        "outputId": "da597c7a-fc31-46e6-bef9-36bcb236e32b",
        "colab": {
          "base_uri": "https://localhost:8080/"
        }
      },
      "id": "yNEFEmOBG5em",
      "execution_count": 4,
      "outputs": [
        {
          "output_type": "stream",
          "name": "stdout",
          "text": [
            "[2, 3, 5, 7, 11, 13, 17, 19, 23, 29, 31, 37, 41, 43, 47, 53, 59, 61, 67, 71, 73, 79, 83, 89, 97, 101, 103, 107, 109, 113, 127, 131, 137, 139, 149, 151, 157, 163, 167, 173, 179, 181, 191, 193, 197, 199]\n"
          ]
        }
      ]
    },
    {
      "cell_type": "code",
      "source": [
        "# 5. Create an iterator class in Python that generates the Fibonacci sequence up to a specified number of terms.\n",
        "class FibonacciIterator:\n",
        "    def __init__(self, max_terms):\n",
        "        self.max_terms = max_terms\n",
        "        self.a, self.b = 0, 1\n",
        "        self.count = 0\n",
        "\n",
        "    def __iter__(self):\n",
        "        return self\n",
        "\n",
        "    def __next__(self):\n",
        "        if self.count >= self.max_terms:\n",
        "            raise StopIteration\n",
        "        result = self.a\n",
        "        self.a, self.b = self.b, self.a + self.b\n",
        "        self.count += 1\n",
        "        return result\n",
        "\n",
        "# Example usage:\n",
        "fib = FibonacciIterator(10)\n",
        "print(list(fib))"
      ],
      "metadata": {
        "id": "74VxgZZFG_OR",
        "outputId": "f7d836dc-d179-41ad-fc46-97cdfb8de7a6",
        "colab": {
          "base_uri": "https://localhost:8080/"
        }
      },
      "id": "74VxgZZFG_OR",
      "execution_count": 5,
      "outputs": [
        {
          "output_type": "stream",
          "name": "stdout",
          "text": [
            "[0, 1, 1, 2, 3, 5, 8, 13, 21, 34]\n"
          ]
        }
      ]
    },
    {
      "cell_type": "code",
      "source": [
        "# 6. Write a generator function in Python that yields the powers of 2 up to a given exponent.\n",
        "def powers_of_two(max_exp):\n",
        "    for i in range(max_exp + 1):\n",
        "        yield 2 ** i\n",
        "\n",
        "# Example usage:\n",
        "print(list(powers_of_two(5)))"
      ],
      "metadata": {
        "id": "34uW_LUqHKOz",
        "outputId": "e5536ca6-140a-4b1b-a279-a1151793f728",
        "colab": {
          "base_uri": "https://localhost:8080/"
        }
      },
      "id": "34uW_LUqHKOz",
      "execution_count": 6,
      "outputs": [
        {
          "output_type": "stream",
          "name": "stdout",
          "text": [
            "[1, 2, 4, 8, 16, 32]\n"
          ]
        }
      ]
    },
    {
      "cell_type": "code",
      "source": [
        "# 7. Implement a generator function that reads a file line by line and yields each line as a string.\n",
        "def read_lines(file_path):\n",
        "    with open(file_path, 'r') as file:\n",
        "        for line in file:\n",
        "            yield line.strip()\n",
        "\n",
        "# Example usage:\n",
        "# for line in read_lines(\"example.txt\"):\n",
        "#     print(line)"
      ],
      "metadata": {
        "id": "jZGIwJW1HR-2"
      },
      "id": "jZGIwJW1HR-2",
      "execution_count": 7,
      "outputs": []
    },
    {
      "cell_type": "code",
      "source": [
        "# 8. Use a lambda function in Python to sort a list of tuples based on the second element of each tuple.\n",
        "tuple_list = [(1, 5), (2, 1), (3, 3)]\n",
        "sorted_tuples = sorted(tuple_list, key=lambda x: x[1])\n",
        "print(sorted_tuples)  # Output: [(2, 1), (3, 3), (1, 5)]"
      ],
      "metadata": {
        "id": "74vfyF2KHbUE",
        "outputId": "e486afdc-7486-4c57-b7c7-2eeaf29a4b7a",
        "colab": {
          "base_uri": "https://localhost:8080/"
        }
      },
      "id": "74vfyF2KHbUE",
      "execution_count": 8,
      "outputs": [
        {
          "output_type": "stream",
          "name": "stdout",
          "text": [
            "[(2, 1), (3, 3), (1, 5)]\n"
          ]
        }
      ]
    },
    {
      "cell_type": "code",
      "source": [
        "# 8. Use a lambda function in Python to sort a list of tuples based on the second element of each tuple.\n",
        "tuple_list = [(1, 5), (2, 1), (3, 3)]\n",
        "sorted_tuples = sorted(tuple_list, key=lambda x: x[1])\n",
        "print(sorted_tuples)  # Output: [(2, 1), (3, 3), (1, 5)]"
      ],
      "metadata": {
        "id": "anVlTTqaHg4e",
        "outputId": "af8d5476-46c7-4765-8e6a-4427b3abaed9",
        "colab": {
          "base_uri": "https://localhost:8080/"
        }
      },
      "id": "anVlTTqaHg4e",
      "execution_count": 9,
      "outputs": [
        {
          "output_type": "stream",
          "name": "stdout",
          "text": [
            "[(2, 1), (3, 3), (1, 5)]\n"
          ]
        }
      ]
    },
    {
      "cell_type": "code",
      "source": [
        "# 10. Create a Python program that uses `filter()` to remove all the vowels from a given string.\n",
        "def remove_vowels(s):\n",
        "    return ''.join(filter(lambda x: x.lower() not in 'aeiou', s))\n",
        "\n",
        "# Example usage:\n",
        "print(remove_vowels(\"Hello World\"))"
      ],
      "metadata": {
        "id": "VaktaReYHlWB",
        "outputId": "ead03e53-5519-4011-eda0-f9da4e1f678f",
        "colab": {
          "base_uri": "https://localhost:8080/"
        }
      },
      "id": "VaktaReYHlWB",
      "execution_count": 10,
      "outputs": [
        {
          "output_type": "stream",
          "name": "stdout",
          "text": [
            "Hll Wrld\n"
          ]
        }
      ]
    },
    {
      "cell_type": "code",
      "source": [
        "# 11. Imagine an accounting routine used in a book shop. It works on a list with sublists like this:\n",
        "orders = [\n",
        "    ['34587', 'Learning Python', 4, 40.95],\n",
        "    ['98762', 'Programming Python', 5, 56.80],\n",
        "    ['77226', 'Head First Python', 3, 32.95],\n",
        "    ['88112', 'Einführung in Python3', 3, 24.99]\n",
        "]\n",
        "\n",
        "# Write a Python program using lambda and map to return a list with 2-tuples.\n",
        "# Each tuple = (order number, total price), add €10 if total < €100.\n",
        "order_totals = list(map(\n",
        "    lambda order: (order[0], round(order[2]*order[3] + (10 if order[2]*order[3] < 100 else 0), 2)),\n",
        "    orders\n",
        "))\n",
        "\n",
        "print(order_totals)"
      ],
      "metadata": {
        "id": "J2HQdOO2Hp3x",
        "outputId": "b7ac8aa5-e94c-451a-b9f2-825eca188f37",
        "colab": {
          "base_uri": "https://localhost:8080/"
        }
      },
      "id": "J2HQdOO2Hp3x",
      "execution_count": 11,
      "outputs": [
        {
          "output_type": "stream",
          "name": "stdout",
          "text": [
            "[('34587', 163.8), ('98762', 284.0), ('77226', 108.85), ('88112', 84.97)]\n"
          ]
        }
      ]
    }
  ],
  "metadata": {
    "kernelspec": {
      "display_name": "Python 3",
      "name": "python3"
    },
    "language_info": {
      "name": "python"
    },
    "required_libs": [],
    "colab": {
      "provenance": []
    }
  },
  "nbformat": 4,
  "nbformat_minor": 5
}